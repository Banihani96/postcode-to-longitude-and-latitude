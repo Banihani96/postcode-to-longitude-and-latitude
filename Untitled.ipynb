{
 "cells": [
  {
   "cell_type": "code",
   "execution_count": 1,
   "metadata": {},
   "outputs": [],
   "source": [
    "import pandas as pd\n",
    "import json\n",
    "import requests"
   ]
  },
  {
   "cell_type": "code",
   "execution_count": 2,
   "metadata": {},
   "outputs": [
    {
     "ename": "FileNotFoundError",
     "evalue": "[Errno 2] File b'location.csv' does not exist: b'location.csv'",
     "output_type": "error",
     "traceback": [
      "\u001b[1;31m---------------------------------------------------------------------------\u001b[0m",
      "\u001b[1;31mFileNotFoundError\u001b[0m                         Traceback (most recent call last)",
      "\u001b[1;32m<ipython-input-2-00219bc263d1>\u001b[0m in \u001b[0;36m<module>\u001b[1;34m\u001b[0m\n\u001b[1;32m----> 1\u001b[1;33m \u001b[0mpostcode\u001b[0m \u001b[1;33m=\u001b[0m \u001b[0mpd\u001b[0m\u001b[1;33m.\u001b[0m\u001b[0mread_csv\u001b[0m\u001b[1;33m(\u001b[0m\u001b[1;34m'location.csv'\u001b[0m\u001b[1;33m)\u001b[0m\u001b[1;33m\u001b[0m\u001b[1;33m\u001b[0m\u001b[0m\n\u001b[0m\u001b[0;32m      2\u001b[0m \u001b[1;31m#print(postcode.post_code)\u001b[0m\u001b[1;33m\u001b[0m\u001b[1;33m\u001b[0m\u001b[1;33m\u001b[0m\u001b[0m\n\u001b[0;32m      3\u001b[0m \u001b[1;31m#print(list(postcode.post_code))\u001b[0m\u001b[1;33m\u001b[0m\u001b[1;33m\u001b[0m\u001b[1;33m\u001b[0m\u001b[0m\n\u001b[0;32m      4\u001b[0m \u001b[0mx\u001b[0m \u001b[1;33m=\u001b[0m \u001b[0mlist\u001b[0m\u001b[1;33m(\u001b[0m\u001b[0mpostcode\u001b[0m\u001b[1;33m.\u001b[0m\u001b[0mpost_code\u001b[0m\u001b[1;33m[\u001b[0m\u001b[1;36m2400\u001b[0m\u001b[1;33m:\u001b[0m\u001b[1;36m2417\u001b[0m\u001b[1;33m]\u001b[0m\u001b[1;33m)\u001b[0m\u001b[1;33m\u001b[0m\u001b[1;33m\u001b[0m\u001b[0m\n",
      "\u001b[1;32mD:\\anaconda\\lib\\site-packages\\pandas\\io\\parsers.py\u001b[0m in \u001b[0;36mparser_f\u001b[1;34m(filepath_or_buffer, sep, delimiter, header, names, index_col, usecols, squeeze, prefix, mangle_dupe_cols, dtype, engine, converters, true_values, false_values, skipinitialspace, skiprows, skipfooter, nrows, na_values, keep_default_na, na_filter, verbose, skip_blank_lines, parse_dates, infer_datetime_format, keep_date_col, date_parser, dayfirst, iterator, chunksize, compression, thousands, decimal, lineterminator, quotechar, quoting, doublequote, escapechar, comment, encoding, dialect, tupleize_cols, error_bad_lines, warn_bad_lines, delim_whitespace, low_memory, memory_map, float_precision)\u001b[0m\n\u001b[0;32m    700\u001b[0m                     skip_blank_lines=skip_blank_lines)\n\u001b[0;32m    701\u001b[0m \u001b[1;33m\u001b[0m\u001b[0m\n\u001b[1;32m--> 702\u001b[1;33m         \u001b[1;32mreturn\u001b[0m \u001b[0m_read\u001b[0m\u001b[1;33m(\u001b[0m\u001b[0mfilepath_or_buffer\u001b[0m\u001b[1;33m,\u001b[0m \u001b[0mkwds\u001b[0m\u001b[1;33m)\u001b[0m\u001b[1;33m\u001b[0m\u001b[1;33m\u001b[0m\u001b[0m\n\u001b[0m\u001b[0;32m    703\u001b[0m \u001b[1;33m\u001b[0m\u001b[0m\n\u001b[0;32m    704\u001b[0m     \u001b[0mparser_f\u001b[0m\u001b[1;33m.\u001b[0m\u001b[0m__name__\u001b[0m \u001b[1;33m=\u001b[0m \u001b[0mname\u001b[0m\u001b[1;33m\u001b[0m\u001b[1;33m\u001b[0m\u001b[0m\n",
      "\u001b[1;32mD:\\anaconda\\lib\\site-packages\\pandas\\io\\parsers.py\u001b[0m in \u001b[0;36m_read\u001b[1;34m(filepath_or_buffer, kwds)\u001b[0m\n\u001b[0;32m    427\u001b[0m \u001b[1;33m\u001b[0m\u001b[0m\n\u001b[0;32m    428\u001b[0m     \u001b[1;31m# Create the parser.\u001b[0m\u001b[1;33m\u001b[0m\u001b[1;33m\u001b[0m\u001b[1;33m\u001b[0m\u001b[0m\n\u001b[1;32m--> 429\u001b[1;33m     \u001b[0mparser\u001b[0m \u001b[1;33m=\u001b[0m \u001b[0mTextFileReader\u001b[0m\u001b[1;33m(\u001b[0m\u001b[0mfilepath_or_buffer\u001b[0m\u001b[1;33m,\u001b[0m \u001b[1;33m**\u001b[0m\u001b[0mkwds\u001b[0m\u001b[1;33m)\u001b[0m\u001b[1;33m\u001b[0m\u001b[1;33m\u001b[0m\u001b[0m\n\u001b[0m\u001b[0;32m    430\u001b[0m \u001b[1;33m\u001b[0m\u001b[0m\n\u001b[0;32m    431\u001b[0m     \u001b[1;32mif\u001b[0m \u001b[0mchunksize\u001b[0m \u001b[1;32mor\u001b[0m \u001b[0miterator\u001b[0m\u001b[1;33m:\u001b[0m\u001b[1;33m\u001b[0m\u001b[1;33m\u001b[0m\u001b[0m\n",
      "\u001b[1;32mD:\\anaconda\\lib\\site-packages\\pandas\\io\\parsers.py\u001b[0m in \u001b[0;36m__init__\u001b[1;34m(self, f, engine, **kwds)\u001b[0m\n\u001b[0;32m    893\u001b[0m             \u001b[0mself\u001b[0m\u001b[1;33m.\u001b[0m\u001b[0moptions\u001b[0m\u001b[1;33m[\u001b[0m\u001b[1;34m'has_index_names'\u001b[0m\u001b[1;33m]\u001b[0m \u001b[1;33m=\u001b[0m \u001b[0mkwds\u001b[0m\u001b[1;33m[\u001b[0m\u001b[1;34m'has_index_names'\u001b[0m\u001b[1;33m]\u001b[0m\u001b[1;33m\u001b[0m\u001b[1;33m\u001b[0m\u001b[0m\n\u001b[0;32m    894\u001b[0m \u001b[1;33m\u001b[0m\u001b[0m\n\u001b[1;32m--> 895\u001b[1;33m         \u001b[0mself\u001b[0m\u001b[1;33m.\u001b[0m\u001b[0m_make_engine\u001b[0m\u001b[1;33m(\u001b[0m\u001b[0mself\u001b[0m\u001b[1;33m.\u001b[0m\u001b[0mengine\u001b[0m\u001b[1;33m)\u001b[0m\u001b[1;33m\u001b[0m\u001b[1;33m\u001b[0m\u001b[0m\n\u001b[0m\u001b[0;32m    896\u001b[0m \u001b[1;33m\u001b[0m\u001b[0m\n\u001b[0;32m    897\u001b[0m     \u001b[1;32mdef\u001b[0m \u001b[0mclose\u001b[0m\u001b[1;33m(\u001b[0m\u001b[0mself\u001b[0m\u001b[1;33m)\u001b[0m\u001b[1;33m:\u001b[0m\u001b[1;33m\u001b[0m\u001b[1;33m\u001b[0m\u001b[0m\n",
      "\u001b[1;32mD:\\anaconda\\lib\\site-packages\\pandas\\io\\parsers.py\u001b[0m in \u001b[0;36m_make_engine\u001b[1;34m(self, engine)\u001b[0m\n\u001b[0;32m   1120\u001b[0m     \u001b[1;32mdef\u001b[0m \u001b[0m_make_engine\u001b[0m\u001b[1;33m(\u001b[0m\u001b[0mself\u001b[0m\u001b[1;33m,\u001b[0m \u001b[0mengine\u001b[0m\u001b[1;33m=\u001b[0m\u001b[1;34m'c'\u001b[0m\u001b[1;33m)\u001b[0m\u001b[1;33m:\u001b[0m\u001b[1;33m\u001b[0m\u001b[1;33m\u001b[0m\u001b[0m\n\u001b[0;32m   1121\u001b[0m         \u001b[1;32mif\u001b[0m \u001b[0mengine\u001b[0m \u001b[1;33m==\u001b[0m \u001b[1;34m'c'\u001b[0m\u001b[1;33m:\u001b[0m\u001b[1;33m\u001b[0m\u001b[1;33m\u001b[0m\u001b[0m\n\u001b[1;32m-> 1122\u001b[1;33m             \u001b[0mself\u001b[0m\u001b[1;33m.\u001b[0m\u001b[0m_engine\u001b[0m \u001b[1;33m=\u001b[0m \u001b[0mCParserWrapper\u001b[0m\u001b[1;33m(\u001b[0m\u001b[0mself\u001b[0m\u001b[1;33m.\u001b[0m\u001b[0mf\u001b[0m\u001b[1;33m,\u001b[0m \u001b[1;33m**\u001b[0m\u001b[0mself\u001b[0m\u001b[1;33m.\u001b[0m\u001b[0moptions\u001b[0m\u001b[1;33m)\u001b[0m\u001b[1;33m\u001b[0m\u001b[1;33m\u001b[0m\u001b[0m\n\u001b[0m\u001b[0;32m   1123\u001b[0m         \u001b[1;32melse\u001b[0m\u001b[1;33m:\u001b[0m\u001b[1;33m\u001b[0m\u001b[1;33m\u001b[0m\u001b[0m\n\u001b[0;32m   1124\u001b[0m             \u001b[1;32mif\u001b[0m \u001b[0mengine\u001b[0m \u001b[1;33m==\u001b[0m \u001b[1;34m'python'\u001b[0m\u001b[1;33m:\u001b[0m\u001b[1;33m\u001b[0m\u001b[1;33m\u001b[0m\u001b[0m\n",
      "\u001b[1;32mD:\\anaconda\\lib\\site-packages\\pandas\\io\\parsers.py\u001b[0m in \u001b[0;36m__init__\u001b[1;34m(self, src, **kwds)\u001b[0m\n\u001b[0;32m   1851\u001b[0m         \u001b[0mkwds\u001b[0m\u001b[1;33m[\u001b[0m\u001b[1;34m'usecols'\u001b[0m\u001b[1;33m]\u001b[0m \u001b[1;33m=\u001b[0m \u001b[0mself\u001b[0m\u001b[1;33m.\u001b[0m\u001b[0musecols\u001b[0m\u001b[1;33m\u001b[0m\u001b[1;33m\u001b[0m\u001b[0m\n\u001b[0;32m   1852\u001b[0m \u001b[1;33m\u001b[0m\u001b[0m\n\u001b[1;32m-> 1853\u001b[1;33m         \u001b[0mself\u001b[0m\u001b[1;33m.\u001b[0m\u001b[0m_reader\u001b[0m \u001b[1;33m=\u001b[0m \u001b[0mparsers\u001b[0m\u001b[1;33m.\u001b[0m\u001b[0mTextReader\u001b[0m\u001b[1;33m(\u001b[0m\u001b[0msrc\u001b[0m\u001b[1;33m,\u001b[0m \u001b[1;33m**\u001b[0m\u001b[0mkwds\u001b[0m\u001b[1;33m)\u001b[0m\u001b[1;33m\u001b[0m\u001b[1;33m\u001b[0m\u001b[0m\n\u001b[0m\u001b[0;32m   1854\u001b[0m         \u001b[0mself\u001b[0m\u001b[1;33m.\u001b[0m\u001b[0munnamed_cols\u001b[0m \u001b[1;33m=\u001b[0m \u001b[0mself\u001b[0m\u001b[1;33m.\u001b[0m\u001b[0m_reader\u001b[0m\u001b[1;33m.\u001b[0m\u001b[0munnamed_cols\u001b[0m\u001b[1;33m\u001b[0m\u001b[1;33m\u001b[0m\u001b[0m\n\u001b[0;32m   1855\u001b[0m \u001b[1;33m\u001b[0m\u001b[0m\n",
      "\u001b[1;32mpandas/_libs/parsers.pyx\u001b[0m in \u001b[0;36mpandas._libs.parsers.TextReader.__cinit__\u001b[1;34m()\u001b[0m\n",
      "\u001b[1;32mpandas/_libs/parsers.pyx\u001b[0m in \u001b[0;36mpandas._libs.parsers.TextReader._setup_parser_source\u001b[1;34m()\u001b[0m\n",
      "\u001b[1;31mFileNotFoundError\u001b[0m: [Errno 2] File b'location.csv' does not exist: b'location.csv'"
     ]
    }
   ],
   "source": [
    "postcode = pd.read_csv('location.csv') # the file that conatin all postcodes \n",
    "#print(postcode.post_code)\n",
    "#print(list(postcode.post_code))\n",
    "x = list(postcode.post_code[0:100])"
   ]
  },
  {
   "cell_type": "code",
   "execution_count": 334,
   "metadata": {
    "scrolled": true
   },
   "outputs": [
    {
     "name": "stdout",
     "output_type": "stream",
     "text": [
      "{'status': 200, 'result': [{'query': 'YO10 4AS', 'result': {'postcode': 'YO10 4AS', 'quality': 1, 'eastings': 461248, 'northings': 450178, 'country': 'England', 'nhs_ha': 'Yorkshire and the Humber', 'longitude': -1.068375, 'latitude': 53.944095, 'european_electoral_region': 'Yorkshire and The Humber', 'primary_care_trust': 'North Yorkshire and York', 'region': 'Yorkshire and The Humber', 'lsoa': 'York 019A', 'msoa': 'York 019', 'incode': '4AS', 'outcode': 'YO10', 'parliamentary_constituency': 'York Central', 'admin_district': 'York', 'parish': 'York, unparished area', 'admin_county': None, 'admin_ward': 'Fishergate', 'ced': None, 'ccg': 'NHS Vale of York', 'nuts': 'York', 'codes': {'admin_district': 'E06000014', 'admin_county': 'E99999999', 'admin_ward': 'E05010316', 'parish': 'E43000013', 'parliamentary_constituency': 'E14001061', 'ccg': 'E38000188', 'ccg_id': '03Q', 'ced': 'E99999999', 'nuts': 'UKE21'}}}, {'query': 'YO10 5DD', 'result': {'postcode': 'YO10 5DD', 'quality': 1, 'eastings': 462215, 'northings': 450672, 'country': 'England', 'nhs_ha': 'Yorkshire and the Humber', 'longitude': -1.053544, 'latitude': 53.948419, 'european_electoral_region': 'Yorkshire and The Humber', 'primary_care_trust': 'North Yorkshire and York', 'region': 'Yorkshire and The Humber', 'lsoa': 'York 023B', 'msoa': 'York 023', 'incode': '5DD', 'outcode': 'YO10', 'parliamentary_constituency': 'York Outer', 'admin_district': 'York', 'parish': 'Heslington', 'admin_county': None, 'admin_ward': 'Hull Road', 'ced': None, 'ccg': 'NHS Vale of York', 'nuts': 'York', 'codes': {'admin_district': 'E06000014', 'admin_county': 'E99999999', 'admin_ward': 'E05010323', 'parish': 'E04000604', 'parliamentary_constituency': 'E14001062', 'ccg': 'E38000188', 'ccg_id': '03Q', 'ced': 'E99999999', 'nuts': 'UKE21'}}}, {'query': 'YO10 5DG', 'result': {'postcode': 'YO10 5DG', 'quality': 1, 'eastings': 462620, 'northings': 450751, 'country': 'England', 'nhs_ha': 'Yorkshire and the Humber', 'longitude': -1.047358, 'latitude': 53.94908, 'european_electoral_region': 'Yorkshire and The Humber', 'primary_care_trust': 'North Yorkshire and York', 'region': 'Yorkshire and The Humber', 'lsoa': 'York 023B', 'msoa': 'York 023', 'incode': '5DG', 'outcode': 'YO10', 'parliamentary_constituency': 'York Outer', 'admin_district': 'York', 'parish': 'Heslington', 'admin_county': None, 'admin_ward': 'Hull Road', 'ced': None, 'ccg': 'NHS Vale of York', 'nuts': 'York', 'codes': {'admin_district': 'E06000014', 'admin_county': 'E99999999', 'admin_ward': 'E05010323', 'parish': 'E04000604', 'parliamentary_constituency': 'E14001062', 'ccg': 'E38000188', 'ccg_id': '03Q', 'ced': 'E99999999', 'nuts': 'UKE21'}}}, {'query': 'YO10 5NH', 'result': {'postcode': 'YO10 5NH', 'quality': 1, 'eastings': 462214, 'northings': 450671, 'country': 'England', 'nhs_ha': 'Yorkshire and the Humber', 'longitude': -1.05356, 'latitude': 53.94841, 'european_electoral_region': 'Yorkshire and The Humber', 'primary_care_trust': 'North Yorkshire and York', 'region': 'Yorkshire and The Humber', 'lsoa': 'York 023B', 'msoa': 'York 023', 'incode': '5NH', 'outcode': 'YO10', 'parliamentary_constituency': 'York Outer', 'admin_district': 'York', 'parish': 'Heslington', 'admin_county': None, 'admin_ward': 'Hull Road', 'ced': None, 'ccg': 'NHS Vale of York', 'nuts': 'York', 'codes': {'admin_district': 'E06000014', 'admin_county': 'E99999999', 'admin_ward': 'E05010323', 'parish': 'E04000604', 'parliamentary_constituency': 'E14001062', 'ccg': 'E38000188', 'ccg_id': '03Q', 'ced': 'E99999999', 'nuts': 'UKE21'}}}, {'query': 'YO19', 'result': None}, {'query': 'YO19 6NP', 'result': {'postcode': 'YO19 6NP', 'quality': 1, 'eastings': 462284, 'northings': 437885, 'country': 'England', 'nhs_ha': 'Yorkshire and the Humber', 'longitude': -1.055088, 'latitude': 53.833499, 'european_electoral_region': 'Yorkshire and The Humber', 'primary_care_trust': 'North Yorkshire and York', 'region': 'Yorkshire and The Humber', 'lsoa': 'Selby 003D', 'msoa': 'Selby 003', 'incode': '6NP', 'outcode': 'YO19', 'parliamentary_constituency': 'Selby and Ainsty', 'admin_district': 'Selby', 'parish': 'Riccall', 'admin_county': 'North Yorkshire', 'admin_ward': 'Riccall', 'ced': 'Escrick', 'ccg': 'NHS Vale of York', 'nuts': 'North Yorkshire CC', 'codes': {'admin_district': 'E07000169', 'admin_county': 'E10000023', 'admin_ward': 'E05010055', 'parish': 'E04007762', 'parliamentary_constituency': 'E14000917', 'ccg': 'E38000188', 'ccg_id': '03Q', 'ced': 'E58001051', 'nuts': 'UKE22'}}}, {'query': 'YO26 4GN', 'result': {'postcode': 'YO26 4GN', 'quality': 1, 'eastings': 458599, 'northings': 451793, 'country': 'England', 'nhs_ha': 'Yorkshire and the Humber', 'longitude': -1.108426, 'latitude': 53.958932, 'european_electoral_region': 'Yorkshire and The Humber', 'primary_care_trust': 'North Yorkshire and York', 'region': 'Yorkshire and The Humber', 'lsoa': 'York 016A', 'msoa': 'York 016', 'incode': '4GN', 'outcode': 'YO26', 'parliamentary_constituency': 'York Central', 'admin_district': 'York', 'parish': 'York, unparished area', 'admin_county': None, 'admin_ward': 'Holgate', 'ced': None, 'ccg': 'NHS Vale of York', 'nuts': 'York', 'codes': {'admin_district': 'E06000014', 'admin_county': 'E99999999', 'admin_ward': 'E05010322', 'parish': 'E43000013', 'parliamentary_constituency': 'E14001061', 'ccg': 'E38000188', 'ccg_id': '03Q', 'ced': 'E99999999', 'nuts': 'UKE21'}}}, {'query': 'YO26 6BL', 'result': {'postcode': 'YO26 6BL', 'quality': 1, 'eastings': 457187, 'northings': 454084, 'country': 'England', 'nhs_ha': 'Yorkshire and the Humber', 'longitude': -1.129505, 'latitude': 53.97966, 'european_electoral_region': 'Yorkshire and The Humber', 'primary_care_trust': 'North Yorkshire and York', 'region': 'Yorkshire and The Humber', 'lsoa': 'York 011B', 'msoa': 'York 011', 'incode': '6BL', 'outcode': 'YO26', 'parliamentary_constituency': 'York Outer', 'admin_district': 'York', 'parish': 'Nether Poppleton', 'admin_county': None, 'admin_ward': 'Rural West York', 'ced': None, 'ccg': 'NHS Vale of York', 'nuts': 'York', 'codes': {'admin_district': 'E06000014', 'admin_county': 'E99999999', 'admin_ward': 'E05010328', 'parish': 'E04000612', 'parliamentary_constituency': 'E14001062', 'ccg': 'E38000188', 'ccg_id': '03Q', 'ced': 'E99999999', 'nuts': 'UKE21'}}}, {'query': 'YO26 6RW', 'result': {'postcode': 'YO26 6RW', 'quality': 1, 'eastings': 456983, 'northings': 454070, 'country': 'England', 'nhs_ha': 'Yorkshire and the Humber', 'longitude': -1.132627, 'latitude': 53.979575, 'european_electoral_region': 'Yorkshire and The Humber', 'primary_care_trust': 'North Yorkshire and York', 'region': 'Yorkshire and The Humber', 'lsoa': 'York 011B', 'msoa': 'York 011', 'incode': '6RW', 'outcode': 'YO26', 'parliamentary_constituency': 'York Outer', 'admin_district': 'York', 'parish': 'Nether Poppleton', 'admin_county': None, 'admin_ward': 'Rural West York', 'ced': None, 'ccg': 'NHS Vale of York', 'nuts': 'York', 'codes': {'admin_district': 'E06000014', 'admin_county': 'E99999999', 'admin_ward': 'E05010328', 'parish': 'E04000612', 'parliamentary_constituency': 'E14001062', 'ccg': 'E38000188', 'ccg_id': '03Q', 'ced': 'E99999999', 'nuts': 'UKE21'}}}, {'query': 'YO31 6EP', 'result': {'postcode': 'YO31 6EP', 'quality': 1, 'eastings': 461395, 'northings': 453977, 'country': 'England', 'nhs_ha': 'Yorkshire and the Humber', 'longitude': -1.065381, 'latitude': 53.978235, 'european_electoral_region': 'Yorkshire and The Humber', 'primary_care_trust': 'North Yorkshire and York', 'region': 'Yorkshire and The Humber', 'lsoa': 'York 005B', 'msoa': 'York 005', 'incode': '6EP', 'outcode': 'YO31', 'parliamentary_constituency': 'York Outer', 'admin_district': 'York', 'parish': 'Huntington', 'admin_county': None, 'admin_ward': 'Huntington & New Earswick', 'ced': None, 'ccg': 'NHS Vale of York', 'nuts': 'York', 'codes': {'admin_district': 'E06000014', 'admin_county': 'E99999999', 'admin_ward': 'E05010324', 'parish': 'E04000608', 'parliamentary_constituency': 'E14001062', 'ccg': 'E38000188', 'ccg_id': '03Q', 'ced': 'E99999999', 'nuts': 'UKE21'}}}, {'query': 'YO32 9GZ', 'result': {'postcode': 'YO32 9GZ', 'quality': 1, 'eastings': 462540, 'northings': 455254, 'country': 'England', 'nhs_ha': 'Yorkshire and the Humber', 'longitude': -1.047664, 'latitude': 53.989573, 'european_electoral_region': 'Yorkshire and The Humber', 'primary_care_trust': 'North Yorkshire and York', 'region': 'Yorkshire and The Humber', 'lsoa': 'York 005C', 'msoa': 'York 005', 'incode': '9GZ', 'outcode': 'YO32', 'parliamentary_constituency': 'York Outer', 'admin_district': 'York', 'parish': 'Huntington', 'admin_county': None, 'admin_ward': 'Huntington & New Earswick', 'ced': None, 'ccg': 'NHS Vale of York', 'nuts': 'York', 'codes': {'admin_district': 'E06000014', 'admin_county': 'E99999999', 'admin_ward': 'E05010324', 'parish': 'E04000608', 'parliamentary_constituency': 'E14001062', 'ccg': 'E38000188', 'ccg_id': '03Q', 'ced': 'E99999999', 'nuts': 'UKE21'}}}, {'query': 'YO42 1NS', 'result': {'postcode': 'YO42 1NS', 'quality': 1, 'eastings': 477906, 'northings': 448488, 'country': 'England', 'nhs_ha': 'Yorkshire and the Humber', 'longitude': -0.815074, 'latitude': 53.926673, 'european_electoral_region': 'Yorkshire and The Humber', 'primary_care_trust': 'East Riding of Yorkshire', 'region': 'Yorkshire and The Humber', 'lsoa': 'East Riding of Yorkshire 018E', 'msoa': 'East Riding of Yorkshire 018', 'incode': '1NS', 'outcode': 'YO42', 'parliamentary_constituency': 'East Yorkshire', 'admin_district': 'East Riding of Yorkshire', 'parish': 'Allerthorpe', 'admin_county': None, 'admin_ward': 'Wolds Weighton', 'ced': None, 'ccg': 'NHS Vale of York', 'nuts': 'East Riding of Yorkshire', 'codes': {'admin_district': 'E06000011', 'admin_county': 'E99999999', 'admin_ward': 'E05001712', 'parish': 'E04000345', 'parliamentary_constituency': 'E14000683', 'ccg': 'E38000188', 'ccg_id': '03Q', 'ced': 'E99999999', 'nuts': 'UKE12'}}}, {'query': 'YO42 4RE', 'result': {'postcode': 'YO42 4RE', 'quality': 1, 'eastings': 475612, 'northings': 443995, 'country': 'England', 'nhs_ha': 'Yorkshire and the Humber', 'longitude': -0.851116, 'latitude': 53.886658, 'european_electoral_region': 'Yorkshire and The Humber', 'primary_care_trust': 'East Riding of Yorkshire', 'region': 'Yorkshire and The Humber', 'lsoa': 'East Riding of Yorkshire 018E', 'msoa': 'East Riding of Yorkshire 018', 'incode': '4RE', 'outcode': 'YO42', 'parliamentary_constituency': 'East Yorkshire', 'admin_district': 'East Riding of Yorkshire', 'parish': 'Melbourne', 'admin_county': None, 'admin_ward': 'Wolds Weighton', 'ced': None, 'ccg': 'NHS Vale of York', 'nuts': 'East Riding of Yorkshire', 'codes': {'admin_district': 'E06000011', 'admin_county': 'E99999999', 'admin_ward': 'E05001712', 'parish': 'E04000436', 'parliamentary_constituency': 'E14000683', 'ccg': 'E38000188', 'ccg_id': '03Q', 'ced': 'E99999999', 'nuts': 'UKE12'}}}, {'query': 'YO51 9JU', 'result': {'postcode': 'YO51 9JU', 'quality': 1, 'eastings': 439521, 'northings': 467231, 'country': 'England', 'nhs_ha': 'Yorkshire and the Humber', 'longitude': -1.397155, 'latitude': 54.099478, 'european_electoral_region': 'Yorkshire and The Humber', 'primary_care_trust': 'North Yorkshire and York', 'region': 'Yorkshire and The Humber', 'lsoa': 'Harrogate 005D', 'msoa': 'Harrogate 005', 'incode': '9JU', 'outcode': 'YO51', 'parliamentary_constituency': 'Skipton and Ripon', 'admin_district': 'Harrogate', 'parish': 'Milby', 'admin_county': 'North Yorkshire', 'admin_ward': 'Bishop Monkton & Newby', 'ced': 'Boroughbridge', 'ccg': 'NHS Harrogate and Rural District', 'nuts': 'North Yorkshire CC', 'codes': {'admin_district': 'E07000165', 'admin_county': 'E10000023', 'admin_ward': 'E05011308', 'parish': 'E04007392', 'parliamentary_constituency': 'E14000928', 'ccg': 'E38000073', 'ccg_id': '03E', 'ced': 'E58001044', 'nuts': 'UKE22'}}}, {'query': 'YO60 7EP', 'result': {'postcode': 'YO60 7EP', 'quality': 1, 'eastings': 473010, 'northings': 467278, 'country': 'England', 'nhs_ha': 'Yorkshire and the Humber', 'longitude': -0.885125, 'latitude': 54.096248, 'european_electoral_region': 'Yorkshire and The Humber', 'primary_care_trust': 'North Yorkshire and York', 'region': 'Yorkshire and The Humber', 'lsoa': 'Ryedale 007B', 'msoa': 'Ryedale 007', 'incode': '7EP', 'outcode': 'YO60', 'parliamentary_constituency': 'Thirsk and Malton', 'admin_district': 'Ryedale', 'parish': 'Welburn (Amotherby Ward)', 'admin_county': 'North Yorkshire', 'admin_ward': 'Derwent', 'ced': 'Hovingham and Sheriff Hutton', 'ccg': 'NHS Scarborough and Ryedale', 'nuts': 'North Yorkshire CC', 'codes': {'admin_district': 'E07000167', 'admin_county': 'E10000023', 'admin_ward': 'E05006301', 'parish': 'E04007646', 'parliamentary_constituency': 'E14000993', 'ccg': 'E38000145', 'ccg_id': '03M', 'ced': 'E58001063', 'nuts': 'UKE22'}}}, {'query': 'YO61 1ET', 'result': {'postcode': 'YO61 1ET', 'quality': 1, 'eastings': 459380, 'northings': 462962, 'country': 'England', 'nhs_ha': 'Yorkshire and the Humber', 'longitude': -1.09434, 'latitude': 54.059196, 'european_electoral_region': 'Yorkshire and The Humber', 'primary_care_trust': 'North Yorkshire and York', 'region': 'Yorkshire and The Humber', 'lsoa': 'Hambleton 010D', 'msoa': 'Hambleton 010', 'incode': '1ET', 'outcode': 'YO61', 'parliamentary_constituency': 'Thirsk and Malton', 'admin_district': 'Hambleton', 'parish': 'Sutton-on-the-Forest', 'admin_county': 'North Yorkshire', 'admin_ward': 'Huby', 'ced': 'Stillington', 'ccg': 'NHS Vale of York', 'nuts': 'North Yorkshire CC', 'codes': {'admin_district': 'E07000164', 'admin_county': 'E10000023', 'admin_ward': 'E05009677', 'parish': 'E04007267', 'parliamentary_constituency': 'E14000993', 'ccg': 'E38000188', 'ccg_id': '03Q', 'ced': 'E58001098', 'nuts': 'UKE22'}}}]}\n"
     ]
    }
   ],
   "source": [
    "# accessing the API\n",
    "url = \"https://api.postcodes.io/postcodes\"\n",
    "parameter = {\"postcodes\" : x}\n",
    "\n",
    "#print(type(parameter))\n",
    "parameter1 = json.dumps(parameter)\n",
    "#print(parameter1)\n",
    "#print(type(parameter1))\n",
    "parameter1 = eval(parameter1)\n",
    "\n",
    "#print(parameter1)\n",
    "#print(type(parameter1))\n",
    "header = {'Content-type': 'application/json'}\n",
    "request_post = requests.post(url,json=parameter1, headers = header)\n",
    "print(request_post.json())\n",
    "postcode_list = request_post.json()['result']\n",
    "        \n"
   ]
  },
  {
   "cell_type": "code",
   "execution_count": 335,
   "metadata": {},
   "outputs": [],
   "source": [
    "# choosing only longitude and latitude and storing it into a csv fileimport csv\n",
    "postcode_data = open('PostCode26.csv','w')\n",
    "csvwriter = csv.writer(postcode_data)\n",
    "csvwriter.writerow(['postcode','lat','lon'])\n",
    "for i in postcode_list:\n",
    "    \n",
    "    if i['result'] == None:\n",
    "        pass\n",
    "    else:\n",
    "        \n",
    "        p   = (i['result']['postcode'])\n",
    "        lon = (i['result']['longitude'])\n",
    "        lat = (i['result']['latitude'])\n",
    "        csvwriter.writerow([p,lat,lon])\n",
    "        \n",
    "        \n",
    "postcode_data.close()  \n",
    "    \n",
    "     "
   ]
  },
  {
   "cell_type": "code",
   "execution_count": 188,
   "metadata": {},
   "outputs": [
    {
     "name": "stdout",
     "output_type": "stream",
     "text": [
      "  post_code  lon  lat\n",
      "0   BB9 5SR  NaN  NaN\n",
      "1   N17 9EN  NaN  NaN\n"
     ]
    }
   ],
   "source": [
    "postcode_list = request_post.json()['result']\n",
    "for i in postcode_list:\n",
    "    print(i['result']['postcode'])\n",
    "    print(i['result']['longitude'])\n",
    "    print(i['result']['latitude'])\n",
    "    print('---------')\n",
    "    \n",
    "     postcode.lon[i,] = i['result']['longitude']\n",
    "    postcode.lat[i,] = i['result']['latitude']\n",
    "    print('---------')\n"
   ]
  },
  {
   "cell_type": "code",
   "execution_count": 106,
   "metadata": {},
   "outputs": [],
   "source": [
    "import urllib.request as req\n",
    "import json\n",
    "\n"
   ]
  },
  {
   "cell_type": "code",
   "execution_count": 117,
   "metadata": {},
   "outputs": [],
   "source": [
    "def loadJsonResponse(url):\n",
    "    return json.loads(req.urlopen(url).read())['result']\n",
    "\n",
    "def validatePostcode(postcode):\n",
    "    url = 'https://api.postcodes.io/postcodes/{}/validate'.format(postcode)\n",
    "    return loadJsonResponse(url)\n",
    "\n"
   ]
  },
  {
   "cell_type": "code",
   "execution_count": 118,
   "metadata": {},
   "outputs": [],
   "source": [
    "def queryPostcode(postcode):\n",
    "    url = 'https://api.postcodes.io/postcodes?q={}'.format(postcode)\n",
    "    return loadJsonResponse(url)"
   ]
  },
  {
   "cell_type": "code",
   "execution_count": 140,
   "metadata": {},
   "outputs": [
    {
     "name": "stdout",
     "output_type": "stream",
     "text": [
      "[{'postcode': 'N17 9EN', 'quality': 1, 'eastings': 533942, 'northings': 189737, 'country': 'England', 'nhs_ha': 'London', 'longitude': -0.067888, 'latitude': 51.590571, 'european_electoral_region': 'London', 'primary_care_trust': 'Haringey Teaching', 'region': 'London', 'lsoa': 'Haringey 012D', 'msoa': 'Haringey 012', 'incode': '9EN', 'outcode': 'N17', 'parliamentary_constituency': 'Tottenham', 'admin_district': 'Haringey', 'parish': 'Haringey, unparished area', 'admin_county': None, 'admin_ward': 'Tottenham Hale', 'ced': None, 'ccg': 'NHS Haringey', 'nuts': 'Haringey and Islington', 'codes': {'admin_district': 'E09000014', 'admin_county': 'E99999999', 'admin_ward': 'E05000281', 'parish': 'E43000204', 'parliamentary_constituency': 'E14001002', 'ccg': 'E38000072', 'ccg_id': '08D', 'ced': 'E99999999', 'nuts': 'UKI43'}}]\n"
     ]
    }
   ],
   "source": [
    "print(queryPostcode(\"N179EN\"))"
   ]
  },
  {
   "cell_type": "code",
   "execution_count": 160,
   "metadata": {},
   "outputs": [
    {
     "name": "stdout",
     "output_type": "stream",
     "text": [
      "{'status': 200, 'result': None}\n"
     ]
    }
   ],
   "source": [
    "request_test = requests.get('https://api.postcodes.io/postcodes?query=BB95SR,N179EN')\n",
    "print(request_test.json())"
   ]
  },
  {
   "cell_type": "code",
   "execution_count": null,
   "metadata": {},
   "outputs": [],
   "source": []
  },
  {
   "cell_type": "code",
   "execution_count": null,
   "metadata": {},
   "outputs": [],
   "source": []
  }
 ],
 "metadata": {
  "kernelspec": {
   "display_name": "Python 3",
   "language": "python",
   "name": "python3"
  },
  "language_info": {
   "codemirror_mode": {
    "name": "ipython",
    "version": 3
   },
   "file_extension": ".py",
   "mimetype": "text/x-python",
   "name": "python",
   "nbconvert_exporter": "python",
   "pygments_lexer": "ipython3",
   "version": "3.7.3"
  }
 },
 "nbformat": 4,
 "nbformat_minor": 2
}
